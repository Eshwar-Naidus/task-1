{
  "nbformat": 4,
  "nbformat_minor": 0,
  "metadata": {
    "colab": {
      "provenance": [],
      "authorship_tag": "ABX9TyPNDN1uB6t9YLIE78/Vk+g7",
      "include_colab_link": true
    },
    "kernelspec": {
      "name": "python3",
      "display_name": "Python 3"
    },
    "language_info": {
      "name": "python"
    }
  },
  "cells": [
    {
      "cell_type": "markdown",
      "metadata": {
        "id": "view-in-github",
        "colab_type": "text"
      },
      "source": [
        "<a href=\"https://colab.research.google.com/github/Eshwar-Naidus/task-1/blob/main/task%601.ipynb\" target=\"_parent\"><img src=\"https://colab.research.google.com/assets/colab-badge.svg\" alt=\"Open In Colab\"/></a>"
      ]
    },
    {
      "cell_type": "code",
      "source": [
        "import pandas as pd\n",
        "import numpy as np\n",
        "import matplotlib.pyplot as plt\n",
        "import seaborn as sns\n",
        "from sklearn.preprocessing import StandardScaler, OneHotEncoder\n",
        "from sklearn.impute import SimpleImputer\n",
        "from sklearn.compose import ColumnTransformer\n",
        "from sklearn.pipeline import Pipeline\n",
        "import io\n",
        "import os\n",
        "\n",
        "# --- Task 1: Data Cleaning & Preprocessing ---\n",
        "print(\"--- Task 1: Data Cleaning & Preprocessing ---\")\n",
        "\n",
        "# --- 1. Define File Name ---\n",
        "FILE_PATH = '/content/sample_data/Titanic-Dataset.csv' # Define the path to the dataset file\n",
        "\n",
        "# --- 2. Load Data from CSV ---\n",
        "# Load the dataset into a pandas DataFrame\n",
        "try:\n",
        "    df = pd.read_csv(FILE_PATH)\n",
        "    print(f\"Successfully loaded data from '{FILE_PATH}'.\")\n",
        "except FileNotFoundError:\n",
        "    print(f\"Error: '{FILE_PATH}' not found.\")\n",
        "    print(\"Please make sure the dataset file is in the correct directory.\")\n",
        "    df = None # Set df to None if file not found to prevent further errors\n",
        "\n",
        "# Proceed with preprocessing only if the DataFrame was loaded successfully\n",
        "if df is not None:\n",
        "    print(\"\\n--- 3. Initial Data Exploration ---\")\n",
        "    print(\"\\nData Head:\")\n",
        "    print(df.head())\n",
        "\n",
        "    # --- 4. Feature Selection (Dropping Columns) ---\n",
        "    # Drop columns that are not relevant for the model\n",
        "    columns_to_drop = ['PassengerId', 'Name', 'Ticket', 'Cabin']\n",
        "    df = df.drop(columns=columns_to_drop)\n",
        "    print(f\"\\nDropped columns: {columns_to_drop}.\")\n",
        "\n",
        "    # --- 5. Define Feature Types ---\n",
        "    # Identify numerical and categorical features\n",
        "    numerical_features = ['Age', 'Fare', 'SibSp', 'Parch']\n",
        "    categorical_features = ['Embarked', 'Sex', 'Pclass'] # Pclass is treated as categorical\n",
        "\n",
        "    # --- 6. Build Preprocessing Pipelines ---\n",
        "\n",
        "    # Pipeline for numerical data: Imputation and Scaling\n",
        "    numerical_transformer = Pipeline(steps=[\n",
        "        ('imputer', SimpleImputer(strategy='median')), # Fill missing numerical values with the median\n",
        "        ('scaler', StandardScaler()) # Scale numerical features\n",
        "    ])\n",
        "\n",
        "    # Pipeline for categorical data: Imputation and One-Hot Encoding\n",
        "    categorical_transformer = Pipeline(steps=[\n",
        "        ('imputer', SimpleImputer(strategy='most_frequent')), # Fill missing categorical values with the most frequent\n",
        "        ('onehot', OneHotEncoder(handle_unknown='ignore', sparse_output=False)) # One-hot encode categorical features\n",
        "    ])\n",
        "\n",
        "    # --- 7. Combine Preprocessing Steps using ColumnTransformer ---\n",
        "    # Apply different transformations to different columns\n",
        "    preprocessor = ColumnTransformer(\n",
        "        transformers=[\n",
        "            ('num', numerical_transformer, numerical_features),\n",
        "            ('cat', categorical_transformer, categorical_features)\n",
        "        ],\n",
        "        remainder='passthrough' # Keep the 'Survived' column (target variable)\n",
        "    )\n",
        "\n",
        "    # --- 8. Apply the Preprocessing to the Data ---\n",
        "    # Separate features (X) and target (y)\n",
        "    X = df.drop('Survived', axis=1)\n",
        "    y = df['Survived']\n",
        "\n",
        "    print(\"\\n--- Applying Preprocessing Pipeline (Imputation, Encoding, Scaling) ---\")\n",
        "    X_processed = preprocessor.fit_transform(X)\n",
        "\n",
        "    # --- 9. Create Processed DataFrame (for inspection and model training) ---\n",
        "    # Get the names of the processed features\n",
        "    processed_feature_names = numerical_features + \\\n",
        "                              list(preprocessor.named_transformers_['cat']\n",
        "                                   .named_steps['onehot']\n",
        "                                   .get_feature_names_out(categorical_features))\n",
        "\n",
        "    df_processed = pd.DataFrame(X_processed, columns=processed_feature_names)\n",
        "    df_processed['Survived'] = y.values # Add the target variable back to the processed DataFrame\n",
        "\n",
        "    print(\"\\n--- 10. Preprocessing Complete. Processed Data Head: ---\")\n",
        "    print(df_processed.head())\n",
        "\n",
        "    # --- 11. Visualize and Save Outlier Boxplot for Fare ---\n",
        "    # Use the original 'Fare' data to visualize outliers before scaling\n",
        "    print(\"\\n--- Generating Boxplot for 'Fare' Outliers ---\")\n",
        "\n",
        "    # Create the boxplot\n",
        "    plt.figure(figsize=(10, 6))\n",
        "    sns.boxplot(x=df['Fare'].dropna()) # Drop missing values for plotting\n",
        "    plt.title(\"Boxplot of 'Fare' to Show Outliers\")\n",
        "    plt.xlabel(\"Fare\")\n",
        "\n",
        "    # Save the plot to a file\n",
        "    output_plot_filename = 'fare_boxplot.png'\n",
        "    plt.savefig(output_plot_filename)\n",
        "    print(f\"\\nSuccessfully saved '{output_plot_filename}' to {os.path.abspath(output_plot_filename)}\")\n",
        "\n",
        "    print(\"--- Data Preprocessing and Visualization Finished ---\")\n",
        "else:\n",
        "    print(\"\\n--- Data Loading Failed. Preprocessing Skipped. ---\")"
      ],
      "metadata": {
        "colab": {
          "base_uri": "https://localhost:8080/",
          "height": 1000
        },
        "id": "zK9xUoHiDu-F",
        "outputId": "d8ca7820-29ec-4262-f688-43aa02f01ce1"
      },
      "execution_count": 6,
      "outputs": [
        {
          "output_type": "stream",
          "name": "stdout",
          "text": [
            "--- Task 1: Data Cleaning & Preprocessing ---\n",
            "Successfully loaded data from '/content/sample_data/Titanic-Dataset.csv'.\n",
            "\n",
            "--- 3. Initial Data Exploration ---\n",
            "\n",
            "Data Head:\n",
            "   PassengerId  Survived  Pclass  \\\n",
            "0            1         0       3   \n",
            "1            2         1       1   \n",
            "2            3         1       3   \n",
            "3            4         1       1   \n",
            "4            5         0       3   \n",
            "\n",
            "                                                Name     Sex   Age  SibSp  \\\n",
            "0                            Braund, Mr. Owen Harris    male  22.0      1   \n",
            "1  Cumings, Mrs. John Bradley (Florence Briggs Th...  female  38.0      1   \n",
            "2                             Heikkinen, Miss. Laina  female  26.0      0   \n",
            "3       Futrelle, Mrs. Jacques Heath (Lily May Peel)  female  35.0      1   \n",
            "4                           Allen, Mr. William Henry    male  35.0      0   \n",
            "\n",
            "   Parch            Ticket     Fare Cabin Embarked  \n",
            "0      0         A/5 21171   7.2500   NaN        S  \n",
            "1      0          PC 17599  71.2833   C85        C  \n",
            "2      0  STON/O2. 3101282   7.9250   NaN        S  \n",
            "3      0            113803  53.1000  C123        S  \n",
            "4      0            373450   8.0500   NaN        S  \n",
            "\n",
            "Dropped columns: ['PassengerId', 'Name', 'Ticket', 'Cabin'].\n",
            "\n",
            "--- Applying Preprocessing Pipeline (Imputation, Encoding, Scaling) ---\n",
            "\n",
            "--- 10. Preprocessing Complete. Processed Data Head: ---\n",
            "        Age      Fare     SibSp     Parch  Embarked_C  Embarked_Q  Embarked_S  \\\n",
            "0 -0.565736 -0.502445  0.432793 -0.473674         0.0         0.0         1.0   \n",
            "1  0.663861  0.786845  0.432793 -0.473674         1.0         0.0         0.0   \n",
            "2 -0.258337 -0.488854 -0.474545 -0.473674         0.0         0.0         1.0   \n",
            "3  0.433312  0.420730  0.432793 -0.473674         0.0         0.0         1.0   \n",
            "4  0.433312 -0.486337 -0.474545 -0.473674         0.0         0.0         1.0   \n",
            "\n",
            "   Sex_female  Sex_male  Pclass_1  Pclass_2  Pclass_3  Survived  \n",
            "0         0.0       1.0       0.0       0.0       1.0         0  \n",
            "1         1.0       0.0       1.0       0.0       0.0         1  \n",
            "2         1.0       0.0       0.0       0.0       1.0         1  \n",
            "3         1.0       0.0       1.0       0.0       0.0         1  \n",
            "4         0.0       1.0       0.0       0.0       1.0         0  \n",
            "\n",
            "--- Generating Boxplot for 'Fare' Outliers ---\n",
            "\n",
            "Successfully saved 'fare_boxplot.png' to /content/fare_boxplot.png\n",
            "--- Data Preprocessing and Visualization Finished ---\n"
          ]
        },
        {
          "output_type": "display_data",
          "data": {
            "text/plain": [
              "<Figure size 1000x600 with 1 Axes>"
            ],
            "image/png": "[encoded data removed]"
          },
          "metadata": {}
        }
      ]
    },
    {
      "cell_type": "code",
      "source": [],
      "metadata": {
        "id": "kJDxKJM7GdJd"
      },
      "execution_count": null,
      "outputs": []
    },
    {
      "cell_type": "code",
      "metadata": {
        "colab": {
          "base_uri": "https://localhost:8080/"
        },
        "id": "19ecc0b0",
        "outputId": "71af5bdb-1e23-47d2-c907-9d5e1f5e8c01"
      },
      "source": [
        "import os\n",
        "print(f\"Current working directory: {os.getcwd()}\")\n",
        "print(\"Files in the current directory:\")\n",
        "print(os.listdir())"
      ],
      "execution_count": 2,
      "outputs": [
        {
          "output_type": "stream",
          "name": "stdout",
          "text": [
            "Current working directory: /content\n",
            "Files in the current directory:\n",
            "['.config', 'sample_data']\n"
          ]
        }
      ]
    }
  ]
}