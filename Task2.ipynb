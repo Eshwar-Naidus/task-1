{
  "nbformat": 4,
  "nbformat_minor": 0,
  "metadata": {
    "colab": {
      "provenance": [],
      "authorship_tag": "ABX9TyOr6anBlqy58I9PzZcVWV/2",
      "include_colab_link": true
    },
    "kernelspec": {
      "name": "python3",
      "display_name": "Python 3"
    },
    "language_info": {
      "name": "python"
    }
  },
  "cells": [
    {
      "cell_type": "markdown",
      "metadata": {
        "id": "view-in-github",
        "colab_type": "text"
      },
      "source": [
        "<a href=\"https://colab.research.google.com/github/Eshwar-Naidus/task-1/blob/main/Task2.ipynb\" target=\"_parent\"><img src=\"https://colab.research.google.com/assets/colab-badge.svg\" alt=\"Open In Colab\"/></a>"
      ]
    },
    {
      "cell_type": "code",
      "execution_count": null,
      "metadata": {
        "colab": {
          "base_uri": "https://localhost:8080/"
        },
        "id": "xNZudC5Kq2do",
        "outputId": "48103cbe-7fda-4480-bb40-5f52765005e7"
      },
      "outputs": [
        {
          "output_type": "stream",
          "name": "stdout",
          "text": [
            "--- Task 2: Exploratory Data Analysis (EDA) ---\n",
            "Successfully loaded the Iris dataset.\n",
            "\n",
            "--- Basic Dataset Info (Nulls, Data Types) ---\n",
            "<class 'pandas.core.frame.DataFrame'>\n",
            "RangeIndex: 150 entries, 0 to 149\n",
            "Data columns (total 5 columns):\n",
            " #   Column        Non-Null Count  Dtype  \n",
            "---  ------        --------------  -----  \n",
            " 0   sepal_length  150 non-null    float64\n",
            " 1   sepal_width   150 non-null    float64\n",
            " 2   petal_length  150 non-null    float64\n",
            " 3   petal_width   150 non-null    float64\n",
            " 4   species       150 non-null    object \n",
            "dtypes: float64(4), object(1)\n",
            "memory usage: 6.0+ KB\n",
            "\n",
            "--- Descriptive Statistics ---\n",
            "       sepal_length  sepal_width  petal_length  petal_width\n",
            "count    150.000000   150.000000    150.000000   150.000000\n",
            "mean       5.843333     3.057333      3.758000     1.199333\n",
            "std        0.828066     0.435866      1.765298     0.762238\n",
            "min        4.300000     2.000000      1.000000     0.100000\n",
            "25%        5.100000     2.800000      1.600000     0.300000\n",
            "50%        5.800000     3.000000      4.350000     1.300000\n",
            "75%        6.400000     3.300000      5.100000     1.800000\n",
            "max        7.900000     4.400000      6.900000     2.500000\n",
            "\n",
            "Generating Pairplot (Univariate & Bivariate analysis)...\n",
            "Saved 'iris_pairplot.png' to /content/iris_pairplot.png\n",
            "\n",
            "Generating Correlation Heatmap...\n",
            "Saved 'iris_correlation_heatmap.png' to /content/iris_correlation_heatmap.png\n",
            "\n",
            "Generating Categorical Count Plot...\n",
            "Saved 'iris_species_countplot.png' to /content/iris_species_countplot.png\n",
            "\n",
            "Generating Boxplots (for Outlier Detection)...\n"
          ]
        },
        {
          "output_type": "stream",
          "name": "stderr",
          "text": [
            "/tmp/ipython-input-2135661640.py:46: FutureWarning: \n",
            "\n",
            "Passing `palette` without assigning `hue` is deprecated and will be removed in v0.14.0. Assign the `x` variable to `hue` and set `legend=False` for the same effect.\n",
            "\n",
            "  sns.countplot(data=df, x='species', palette='viridis')\n"
          ]
        }
      ],
      "source": [
        "import pandas as pd\n",
        "import seaborn as sns\n",
        "import matplotlib.pyplot as plt\n",
        "import os\n",
        "\n",
        "print(\"--- Task 2: Exploratory Data Analysis (EDA) ---\")\n",
        "\n",
        "# --- 1. Import Dataset ---\n",
        "# The Iris dataset is suggested and is built into the Seaborn library.\n",
        "# This avoids needing to download a separate CSV file.\n",
        "df = sns.load_dataset('iris')\n",
        "print(\"Successfully loaded the Iris dataset.\")\n",
        "\n",
        "# --- 2. Basic Info & Descriptive Statistics ---\n",
        "print(\"\\n--- Basic Dataset Info (Nulls, Data Types) ---\")\n",
        "df.info()\n",
        "\n",
        "print(\"\\n--- Descriptive Statistics ---\")\n",
        "print(df.describe())\n",
        "\n",
        "# --- 3. Visualize Distributions (Univariate) & 4. Relationships (Bivariate) ---\n",
        "# A pairplot is the most efficient EDA tool for this.\n",
        "# Diagonal: Histograms (Univariate analysis)\n",
        "# Off-diagonal: Scatter plots (Bivariate analysis)\n",
        "print(\"\\nGenerating Pairplot (Univariate & Bivariate analysis)...\")\n",
        "pair_plot = sns.pairplot(df, hue='species', markers=[\"o\", \"s\", \"D\"])\n",
        "pair_plot.savefig('iris_pairplot.png')\n",
        "print(f\"Saved 'iris_pairplot.png' to {os.path.abspath('iris_pairplot.png')}\")\n",
        "\n",
        "# --- 4. Explore Relationships (Correlation Heatmap) ---\n",
        "# Correlation only works on numerical features.\n",
        "print(\"\\nGenerating Correlation Heatmap...\")\n",
        "numerical_df = df.drop(columns=['species'])\n",
        "corr_matrix = numerical_df.corr()\n",
        "\n",
        "# Create a figure and axes\n",
        "plt.figure(figsize=(8, 6))\n",
        "sns.heatmap(corr_matrix, annot=True, cmap='coolwarm', fmt='.2f', linewidths=.5)\n",
        "plt.title('Correlation Matrix of Iris Features')\n",
        "plt.savefig('iris_correlation_heatmap.png')\n",
        "print(f\"Saved 'iris_correlation_heatmap.png' to {os.path.abspath('iris_correlation_heatmap.png')}\")\n",
        "\n",
        "# --- 5. Analyze Categorical Data (Count Plot) ---\n",
        "print(\"\\nGenerating Categorical Count Plot...\")\n",
        "plt.figure(figsize=(6, 5))\n",
        "sns.countplot(data=df, x='species', palette='viridis')\n",
        "plt.title('Distribution of Iris Species')\n",
        "plt.savefig('iris_species_countplot.png')\n",
        "print(f\"Saved 'iris_species_countplot.png' to {os.path.abspath('iris_species_countplot.png')}\")\n",
        "\n",
        "# --- 6. Identify Outliers (Boxplots) ---\n",
        "# This is also a great way to compare numerical data across categories.\n",
        "print(\"\\nGenerating Boxplots (for Outlier Detection)...\")\n",
        "# We create a 2x2 grid for the 4 numerical features\n",
        "plt.figure(figsize=(12, 10))\n",
        "\n",
        "plt.subplot(2, 2, 1)\n",
        "sns.boxplot(data=df, x='species', y='sepal_length')\n",
        "plt.title('Sepal Length by Species')\n",
        "\n",
        "plt.subplot(2, 2, 2)\n",
        "sns.boxplot(data=df, x='species', y='sepal_width')\n",
        "plt.title('Sepal Width by Species')\n",
        "\n",
        "plt.subplot(2, 2, 3)\n",
        "sns.boxplot(data=df, x='species', y='petal_length')\n",
        "plt.title('Petal Length by Species')\n",
        "\n",
        "plt.subplot(2, 2, 4)\n",
        "sns.boxplot(data=df, x='species', y='petal_width')\n",
        "plt.title('Petal Width by Species')\n",
        "\n",
        "# This adjusts the plots to prevent labels from overlapping\n",
        "plt.tight_layout()\n",
        "plt.savefig('iris_boxplots.png')\n",
        "print(f\"Saved 'iris_boxplots.png' to {os.path.abspath('iris_boxplots.png')}\")\n",
        "\n",
        "print(\"\\n--- EDA Task 2 Complete. All 4 plots have been saved. ---\")"
      ]
    },
    {
      "cell_type": "code",
      "source": [],
      "metadata": {
        "id": "s-qMg6xoq8mf"
      },
      "execution_count": null,
      "outputs": []
    }
  ]
}